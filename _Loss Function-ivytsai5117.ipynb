{
 "cells": [
  {
   "cell_type": "markdown",
   "metadata": {},
   "source": [
    "\n",
    "# 評估指標實作篇\n",
    "建立一個機器學習模型後，需要計算評估指標分數，<br>\n",
    "從指標中獲得反饋看模型表現的優劣，再繼續改進模型，直到達到理想的指標分數。\n",
    "\n"
   ]
  },
  {
   "cell_type": "markdown",
   "metadata": {},
   "source": [
    "<img  src=\"images/MAE.jpg\" align='left'/><br><br><br><br><br>\n",
    "<img  src=\"images/MSE.jpg\" align='left'/><br><br><br><br><br>\n",
    "<img  src=\"images/RMSE.jpg\" align='left'/><br><br><br><br><br>\n",
    "\n",
    "ANS<br>\n",
    "MAE =  1.4916666666666665<br>\n",
    "MSE =  2.72875<br>\n",
    "RMSE =  1.651892853668179<br>\n"
   ]
  },
  {
   "cell_type": "code",
   "execution_count": 25,
   "metadata": {},
   "outputs": [],
   "source": [
    "import numpy as np\n",
    "import math"
   ]
  },
  {
   "cell_type": "code",
   "execution_count": 5,
   "metadata": {},
   "outputs": [],
   "source": [
    "target = [1.5, 2.1, 3.3, -4.7, -2.3, 0.75]\n",
    "prediction = [0.5, 1.5, 2.1, -2.2, 0.1, -0.5]"
   ]
  },
  {
   "cell_type": "code",
   "execution_count": 34,
   "metadata": {},
   "outputs": [
    {
     "name": "stdout",
     "output_type": "stream",
     "text": [
      "error: [1.0, 0.6000000000000001, 1.1999999999999997, -2.5, -2.4, 1.25] \n",
      " abs_error: [1.0, 0.6000000000000001, 1.1999999999999997, 2.5, 2.4, 1.25] \n",
      " sq_error [1.0, 0.3600000000000001, 1.4399999999999993, 6.25, 5.76, 1.5625]\n",
      "Absolute Value of Error:  [1.0, 0.6000000000000001, 1.1999999999999997, 2.5, 2.4, 1.25]\n",
      "MAE =  1.4916666666666665\n",
      "Square Error:  [1.0, 0.3600000000000001, 1.4399999999999993, 6.25, 5.76, 1.5625]\n",
      "MSE =  2.72875\n",
      "RMSE =  1.651892853668179\n",
      "RMSE =  1.651892853668179\n",
      "error2: [ 1.    0.6   1.2  -2.5  -2.4   1.25]\n",
      "abs_error2: [1.   0.6  1.2  2.5  2.4  1.25]\n",
      "sq_error2: [1.     0.36   1.44   6.25   5.76   1.5625]\n",
      "MAE2 =  1.4916666666666665\n",
      "MSE2 =  2.72875\n",
      "RMSE =  1.651892853668179\n"
     ]
    }
   ],
   "source": [
    "\n",
    "error = []\n",
    "abs_error = []\n",
    "sq_error = []\n",
    "\n",
    "for i in range(len(target)):\n",
    "    error.append(target[i] - prediction[i])\n",
    "    abs_error.append(abs(target[i] - prediction[i]))\n",
    "    sq_error.append((target[i] - prediction[i])**2)\n",
    "    \n",
    "print('error:', error,'\\n',\n",
    "     'abs_error:', abs_error,'\\n',\n",
    "     'sq_error', sq_error) \n",
    "\n",
    "\n",
    "#平均絕對誤差MAE\n",
    "\n",
    "print(\"Absolute Value of Error: \", abs_error)\n",
    "print(\"MAE = \", sum(abs_error)/len(abs_error))\n",
    "\n",
    "\n",
    "\n",
    "#均方誤差MSE\n",
    "print(\"Square Error: \", sq_error)\n",
    "print(\"MSE = \", sum(sq_error)/len(sq_error))\n",
    "\n",
    "#均方根誤差RMSE\n",
    "print(\"RMSE = \", math.sqrt(sum(sq_error)/len(sq_error)))\n",
    "print(\"RMSE = \", (sum(sq_error)/len(sq_error))**0.5)\n",
    "\n",
    "\n",
    "########################################\n",
    "error2 = np.array(target) - np.array(prediction)\n",
    "abs_error2 = abs(error2)\n",
    "sq_error2 = error2**2\n",
    "\n",
    "sq_error2.sum().mean()\n",
    "\n",
    "print('error2:', error2)\n",
    "print('abs_error2:', abs_error2)\n",
    "print('sq_error2:', sq_error2)\n",
    " \n",
    "print(\"MAE2 = \",abs_error2.mean()) \n",
    "print(\"MSE2 = \", sq_error2.mean())\n",
    "print(\"RMSE = \", np.sqrt(sq_error2.mean()))"
   ]
  },
  {
   "cell_type": "markdown",
   "metadata": {},
   "source": [
    "#### other\n",
    "平均值 變異數 標準差"
   ]
  },
  {
   "cell_type": "code",
   "execution_count": null,
   "metadata": {},
   "outputs": [],
   "source": [
    "targetDeviation = []\n",
    "targetMean = sum(target) / len(target)#target平均值\n",
    "for val in target:\n",
    "    targetDeviation.append((val - targetMean) * (val - targetMean))\n",
    "print(\"Target Variance = \", sum(targetDeviation) / len(targetDeviation))#方差\n",
    "print(\"Target Standard Deviation = \", sqrt(sum(targetDeviation) / len(targetDeviation)))#標準差"
   ]
  },
  {
   "cell_type": "markdown",
   "metadata": {},
   "source": [
    "# sklearn\n",
    "from sklearn import metrics\n",
    "\n",
    ">Mean Absolute Error (MAE)代表平均誤差，公式為所有實際值及預測值相減的絕對值平均。\n",
    "\n",
    ">Mean Squared Error (MSE)比起MSE可以拉開誤差差距，算是蠻常用的指標，公式所有實際值及預測值相減的平方的平均\n",
    "\n",
    ">Root Mean Squared Error (RMSE)代表MSE的平方根。比起MSE更為常用，因為更容易解釋y。\n"
   ]
  },
  {
   "cell_type": "code",
   "execution_count": 37,
   "metadata": {},
   "outputs": [],
   "source": [
    "from sklearn import metrics"
   ]
  },
  {
   "cell_type": "code",
   "execution_count": 40,
   "metadata": {},
   "outputs": [],
   "source": [
    "y_test = [1.5, 2.1, 3.3, -4.7, -2.3, 0.75]\n",
    "predictions = [0.5, 1.5, 2.1, -2.2, 0.1, -0.5]"
   ]
  },
  {
   "cell_type": "code",
   "execution_count": 42,
   "metadata": {},
   "outputs": [
    {
     "name": "stdout",
     "output_type": "stream",
     "text": [
      "MAE =   1.4916666666666665\n",
      "MSE =  1.4916666666666665\n",
      "RMSE =  1.2213380640374174\n"
     ]
    }
   ],
   "source": [
    "#載入迴歸常見的評估指標套件\n",
    "MAE = metrics.mean_absolute_error(y_test,predictions)\n",
    "MSE = metrics.mean_absolute_error(y_test,predictions)\n",
    "RMSE = MSE**0.5\n",
    "print(\"MAE =  \", MAE)\n",
    "print(\"MSE = \", MSE)\n",
    "print(\"RMSE = \", RMSE)"
   ]
  },
  {
   "cell_type": "code",
   "execution_count": null,
   "metadata": {},
   "outputs": [],
   "source": []
  }
 ],
 "metadata": {
  "kernelspec": {
   "display_name": "Python 3",
   "language": "python",
   "name": "python3"
  },
  "language_info": {
   "codemirror_mode": {
    "name": "ipython",
    "version": 3
   },
   "file_extension": ".py",
   "mimetype": "text/x-python",
   "name": "python",
   "nbconvert_exporter": "python",
   "pygments_lexer": "ipython3",
   "version": "3.11.4"
  }
 },
 "nbformat": 4,
 "nbformat_minor": 4
}
