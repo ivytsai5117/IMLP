{
 "cells": [
  {
   "cell_type": "markdown",
   "id": "3129ab3d",
   "metadata": {},
   "source": [
    "# Ensemble/Voting Classification in Python with Scikit-Learn\n",
    "ref：https://www.kaggle.com/c/titanic/submit"
   ]
  },
  {
   "cell_type": "code",
   "execution_count": 11,
   "id": "c6b020b8",
   "metadata": {},
   "outputs": [],
   "source": [
    "import pandas as pd\n",
    "import numpy as np\n",
    "import warnings\n",
    "\n",
    "import seaborn as sns\n",
    "import matplotlib.pyplot as plt\n",
    "\n",
    "\n",
    "from sklearn.preprocessing import LabelEncoder, StandardScaler\n",
    "from sklearn.metrics import accuracy_score, f1_score, log_loss\n",
    "from sklearn.model_selection import train_test_split, KFold, cross_val_score\n",
    "\n",
    "from sklearn.svm import SVC\n",
    "from sklearn.linear_model import LogisticRegression\n",
    "from sklearn.tree import DecisionTreeClassifier\n",
    "from sklearn.ensemble import VotingClassifier\n",
    "from sklearn.ensemble import BaggingClassifier\n",
    "from sklearn.ensemble import AdaBoostClassifier, RandomForestClassifier, ExtraTreesClassifier"
   ]
  },
  {
   "cell_type": "markdown",
   "id": "3bad7ad0",
   "metadata": {},
   "source": [
    "## 1. read csv"
   ]
  },
  {
   "cell_type": "code",
   "execution_count": 2,
   "id": "7163b994",
   "metadata": {
    "scrolled": false
   },
   "outputs": [
    {
     "data": {
      "text/html": [
       "<div>\n",
       "<style scoped>\n",
       "    .dataframe tbody tr th:only-of-type {\n",
       "        vertical-align: middle;\n",
       "    }\n",
       "\n",
       "    .dataframe tbody tr th {\n",
       "        vertical-align: top;\n",
       "    }\n",
       "\n",
       "    .dataframe thead th {\n",
       "        text-align: right;\n",
       "    }\n",
       "</style>\n",
       "<table border=\"1\" class=\"dataframe\">\n",
       "  <thead>\n",
       "    <tr style=\"text-align: right;\">\n",
       "      <th></th>\n",
       "      <th>PassengerId</th>\n",
       "      <th>Survived</th>\n",
       "      <th>Pclass</th>\n",
       "      <th>Name</th>\n",
       "      <th>Sex</th>\n",
       "      <th>Age</th>\n",
       "      <th>SibSp</th>\n",
       "      <th>Parch</th>\n",
       "      <th>Ticket</th>\n",
       "      <th>Fare</th>\n",
       "      <th>Cabin</th>\n",
       "      <th>Embarked</th>\n",
       "    </tr>\n",
       "  </thead>\n",
       "  <tbody>\n",
       "    <tr>\n",
       "      <th>0</th>\n",
       "      <td>1</td>\n",
       "      <td>0</td>\n",
       "      <td>3</td>\n",
       "      <td>Braund, Mr. Owen Harris</td>\n",
       "      <td>male</td>\n",
       "      <td>22.0</td>\n",
       "      <td>1</td>\n",
       "      <td>0</td>\n",
       "      <td>A/5 21171</td>\n",
       "      <td>7.2500</td>\n",
       "      <td>NaN</td>\n",
       "      <td>S</td>\n",
       "    </tr>\n",
       "    <tr>\n",
       "      <th>1</th>\n",
       "      <td>2</td>\n",
       "      <td>1</td>\n",
       "      <td>1</td>\n",
       "      <td>Cumings, Mrs. John Bradley (Florence Briggs Th...</td>\n",
       "      <td>female</td>\n",
       "      <td>38.0</td>\n",
       "      <td>1</td>\n",
       "      <td>0</td>\n",
       "      <td>PC 17599</td>\n",
       "      <td>71.2833</td>\n",
       "      <td>C85</td>\n",
       "      <td>C</td>\n",
       "    </tr>\n",
       "    <tr>\n",
       "      <th>2</th>\n",
       "      <td>3</td>\n",
       "      <td>1</td>\n",
       "      <td>3</td>\n",
       "      <td>Heikkinen, Miss. Laina</td>\n",
       "      <td>female</td>\n",
       "      <td>26.0</td>\n",
       "      <td>0</td>\n",
       "      <td>0</td>\n",
       "      <td>STON/O2. 3101282</td>\n",
       "      <td>7.9250</td>\n",
       "      <td>NaN</td>\n",
       "      <td>S</td>\n",
       "    </tr>\n",
       "    <tr>\n",
       "      <th>3</th>\n",
       "      <td>4</td>\n",
       "      <td>1</td>\n",
       "      <td>1</td>\n",
       "      <td>Futrelle, Mrs. Jacques Heath (Lily May Peel)</td>\n",
       "      <td>female</td>\n",
       "      <td>35.0</td>\n",
       "      <td>1</td>\n",
       "      <td>0</td>\n",
       "      <td>113803</td>\n",
       "      <td>53.1000</td>\n",
       "      <td>C123</td>\n",
       "      <td>S</td>\n",
       "    </tr>\n",
       "    <tr>\n",
       "      <th>4</th>\n",
       "      <td>5</td>\n",
       "      <td>0</td>\n",
       "      <td>3</td>\n",
       "      <td>Allen, Mr. William Henry</td>\n",
       "      <td>male</td>\n",
       "      <td>35.0</td>\n",
       "      <td>0</td>\n",
       "      <td>0</td>\n",
       "      <td>373450</td>\n",
       "      <td>8.0500</td>\n",
       "      <td>NaN</td>\n",
       "      <td>S</td>\n",
       "    </tr>\n",
       "  </tbody>\n",
       "</table>\n",
       "</div>"
      ],
      "text/plain": [
       "   PassengerId  Survived  Pclass  \\\n",
       "0            1         0       3   \n",
       "1            2         1       1   \n",
       "2            3         1       3   \n",
       "3            4         1       1   \n",
       "4            5         0       3   \n",
       "\n",
       "                                                Name     Sex   Age  SibSp  \\\n",
       "0                            Braund, Mr. Owen Harris    male  22.0      1   \n",
       "1  Cumings, Mrs. John Bradley (Florence Briggs Th...  female  38.0      1   \n",
       "2                             Heikkinen, Miss. Laina  female  26.0      0   \n",
       "3       Futrelle, Mrs. Jacques Heath (Lily May Peel)  female  35.0      1   \n",
       "4                           Allen, Mr. William Henry    male  35.0      0   \n",
       "\n",
       "   Parch            Ticket     Fare Cabin Embarked  \n",
       "0      0         A/5 21171   7.2500   NaN        S  \n",
       "1      0          PC 17599  71.2833   C85        C  \n",
       "2      0  STON/O2. 3101282   7.9250   NaN        S  \n",
       "3      0            113803  53.1000  C123        S  \n",
       "4      0            373450   8.0500   NaN        S  "
      ]
     },
     "execution_count": 2,
     "metadata": {},
     "output_type": "execute_result"
    }
   ],
   "source": [
    "training_data = pd.read_csv(\"data/train.csv\")\n",
    "testing_data = pd.read_csv(\"data/test.csv\")\n",
    "training_data.head()\n"
   ]
  },
  {
   "cell_type": "markdown",
   "id": "8b23690e",
   "metadata": {},
   "source": [
    "## 2. get nulls"
   ]
  },
  {
   "cell_type": "code",
   "execution_count": 142,
   "id": "eadb5ee2",
   "metadata": {
    "scrolled": false
   },
   "outputs": [
    {
     "name": "stdout",
     "output_type": "stream",
     "text": [
      "training Data:\n",
      "PassengerId      0\n",
      "Survived         0\n",
      "Pclass           0\n",
      "Name             0\n",
      "Sex              0\n",
      "Age            177\n",
      "SibSp            0\n",
      "Parch            0\n",
      "Ticket           0\n",
      "Fare             0\n",
      "Cabin          687\n",
      "Embarked         2\n",
      "dtype: int64\n",
      "Testing Data:\n",
      "PassengerId      0\n",
      "Pclass           0\n",
      "Name             0\n",
      "Sex              0\n",
      "Age             86\n",
      "SibSp            0\n",
      "Parch            0\n",
      "Ticket           0\n",
      "Fare             1\n",
      "Cabin          327\n",
      "Embarked         0\n",
      "dtype: int64\n"
     ]
    }
   ],
   "source": [
    "#SKIP Teacher's version\n",
    "def get_nulls(training, testing):\n",
    "     print(\"training Data:\")\n",
    "     print(pd.isnull(training).sum())     \n",
    "     print(\"Testing Data:\")\n",
    "     print(pd.isnull(testing).sum())\n",
    "get_nulls(training_data, testing_data)"
   ]
  },
  {
   "cell_type": "markdown",
   "id": "ba20f8e6",
   "metadata": {},
   "source": [
    "### (1)def na_list_count(): ivy function to list variables with NA and graph it"
   ]
  },
  {
   "cell_type": "code",
   "execution_count": 3,
   "id": "5e5156ba",
   "metadata": {
    "scrolled": false
   },
   "outputs": [
    {
     "name": "stdout",
     "output_type": "stream",
     "text": [
      "['Age', 'Cabin', 'Embarked']\n",
      "['Age', 'Fare', 'Cabin']\n"
     ]
    },
    {
     "data": {
      "image/png": "[encoded data removed]",
      "text/plain": [
       "<Figure size 1000x600 with 2 Axes>"
      ]
     },
     "metadata": {},
     "output_type": "display_data"
    },
    {
     "data": {
      "image/png": "[encoded data removed]",
      "text/plain": [
       "<Figure size 1000x600 with 2 Axes>"
      ]
     },
     "metadata": {},
     "output_type": "display_data"
    }
   ],
   "source": [
    "#Ivy: na\n",
    "def na_list_count():\n",
    "    for data in [training_data, testing_data]:  \n",
    "        NA_list = []\n",
    "        NA_list = [elem for i,elem in enumerate(data.columns) if data[elem].isna().sum(axis=0)> 0]\n",
    "        if NA_list == []:\n",
    "            print(\"No NA\")\n",
    "        else:\n",
    "            print(NA_list)\n",
    "            plt.figure(figsize=(10,6))\n",
    "            sns.heatmap(data.isna().transpose(),\n",
    "                        cmap=\"YlGnBu\",\n",
    "                        cbar_kws={'label': 'Missing Data'})\n",
    "na_list_count()"
   ]
  },
  {
   "cell_type": "markdown",
   "id": "d008f267",
   "metadata": {},
   "source": [
    "### (2) drop variables not needed and replace missing value\n",
    "#### def new_value(): ivy function to replace variable's value\n",
    "####    "
   ]
  },
  {
   "cell_type": "code",
   "execution_count": 4,
   "id": "ffd6109f",
   "metadata": {},
   "outputs": [
    {
     "name": "stdout",
     "output_type": "stream",
     "text": [
      "before: Index(['PassengerId', 'Survived', 'Pclass', 'Name', 'Sex', 'Age', 'SibSp',\n",
      "       'Parch', 'Ticket', 'Fare', 'Cabin', 'Embarked'],\n",
      "      dtype='object')\n",
      "after: Index(['Survived', 'Pclass', 'Sex', 'Age', 'SibSp', 'Parch', 'Fare',\n",
      "       'Embarked'],\n",
      "      dtype='object')\n",
      "before: Index(['PassengerId', 'Pclass', 'Name', 'Sex', 'Age', 'SibSp', 'Parch',\n",
      "       'Ticket', 'Fare', 'Cabin', 'Embarked'],\n",
      "      dtype='object')\n",
      "after: Index(['Pclass', 'Sex', 'Age', 'SibSp', 'Parch', 'Fare', 'Embarked'], dtype='object')\n",
      "No NA\n",
      "No NA\n",
      "None\n"
     ]
    }
   ],
   "source": [
    "#Ivy's version\n",
    "# Drop the cabin column, as there are too many missing values\n",
    "# Drop the ticket numbers too, as there are too many categories\n",
    "# Drop names as they won't really help predict survivors\n",
    "#print(T_list[0])\n",
    "#print('before:', training_data.columns)\n",
    "#training_data.drop(T_list[0], axis = 1, inplace= True)\n",
    "#print('after:', training_data.columns)\n",
    "\n",
    "v_to_drop = [\"Cabin\",\"Ticket\",\"Name\", \"PassengerId\"]\n",
    "for data in  [training_data, testing_data]:\n",
    "    print('before:',    data.columns)\n",
    "    data.drop(v_to_drop, axis = 1, inplace = True)\n",
    "    print('after:',   data.columns)\n",
    " \n",
    "\n",
    "# Taking the mean/average value would be impacted by the skew\n",
    "# so we should use the median value to impute missing values\n",
    "# age: median, Embarked: 'S', Fare: median\n",
    "def new_value(data):\n",
    "    New_value_list = {'Age': data['Age'].median(),\\\n",
    "                        'Embarked': 'S',\\\n",
    "                        'Fare': data['Fare'].median() }\n",
    "    data.fillna(value=New_value_list,inplace = True)    \n",
    "\n",
    "new_value(training_data)\n",
    "new_value(testing_data)\n",
    "\n",
    "print(na_list_count())"
   ]
  },
  {
   "cell_type": "markdown",
   "id": "1584f955",
   "metadata": {},
   "source": [
    "## 3. Onehot encoder and standardization"
   ]
  },
  {
   "cell_type": "markdown",
   "id": "f399815c",
   "metadata": {},
   "source": [
    "### (1) Onehot encoder: Sex and Embarked"
   ]
  },
  {
   "cell_type": "code",
   "execution_count": 195,
   "id": "19e4f59b",
   "metadata": {},
   "outputs": [],
   "source": [
    "#Skip Teacher's version\n",
    "# Fit the encoder on the data (Feature: Sex)\n",
    "encoder_1 = LabelEncoder()\n",
    "encoder_1.fit(training_data[\"Sex\"])\n",
    "\n",
    "# Transform and replace training data\n",
    "training_sex_encoded = encoder_1.transform(training_data[\"Sex\"])\n",
    "training_data[\"Sex\"] = training_sex_encoded\n",
    "test_sex_encoded = encoder_1.transform(testing_data[\"Sex\"])\n",
    "testing_data[\"Sex\"] = test_sex_encoded\n",
    "\n",
    "# Fit the encoder on the data (Feature: Embarked)\n",
    " "
   ]
  },
  {
   "cell_type": "code",
   "execution_count": 5,
   "id": "4c706f2f",
   "metadata": {},
   "outputs": [
    {
     "name": "stdout",
     "output_type": "stream",
     "text": [
      "1    577\n",
      "0    314\n",
      "Name: Sex, dtype: int64\n",
      "2    646\n",
      "0    168\n",
      "1     77\n",
      "Name: Embarked, dtype: int64\n",
      "1    266\n",
      "0    152\n",
      "Name: Sex, dtype: int64\n",
      "2    270\n",
      "0    102\n",
      "1     46\n",
      "Name: Embarked, dtype: int64\n"
     ]
    }
   ],
   "source": [
    "#Ivy's version\n",
    "\n",
    "#1 OneHot function: Ivy_onehot(data, variable)\n",
    "def Ivy_onehot(data,v):\n",
    "    encoder_1 = LabelEncoder()\n",
    "    # Fit the encoder on the data \n",
    "    encoder_1.fit(data[v])\n",
    "    # Transform and replace training data\n",
    "    training_v_encoded = encoder_1.transform(data[v])\n",
    "    data[v] = training_v_encoded\n",
    "\n",
    "#2 data and variables: training_data/testing_data; Sex and Embarked\n",
    "Data = [training_data, testing_data]\n",
    "Variable = ['Sex', 'Embarked']\n",
    "\n",
    "for D in Data:\n",
    "    for V in Variable:\n",
    "        Ivy_onehot(D,V)\n",
    "        print(D[V].value_counts())\n"
   ]
  },
  {
   "cell_type": "markdown",
   "id": "26cc0707",
   "metadata": {},
   "source": [
    "### 2. Standardization\n",
    "#### (1) from sklearn.preprocessing import StandardScaler\n",
    "#### (2) turn pd.variable to ndarray of 2 dimension "
   ]
  },
  {
   "cell_type": "code",
   "execution_count": 6,
   "id": "d66b6290",
   "metadata": {},
   "outputs": [
    {
     "name": "stdout",
     "output_type": "stream",
     "text": [
      "     Survived  Pclass  Sex       Age  SibSp  Parch      Fare  Embarked\n",
      "0           0       3    1 -0.565736      1      0 -0.502445         2\n",
      "1           1       1    0  0.663861      1      0  0.786845         0\n",
      "2           1       3    0 -0.258337      0      0 -0.488854         2\n",
      "3           1       1    0  0.433312      1      0  0.420730         2\n",
      "4           0       3    1  0.433312      0      0 -0.486337         2\n",
      "..        ...     ...  ...       ...    ...    ...       ...       ...\n",
      "886         0       2    1 -0.181487      0      0 -0.386671         2\n",
      "887         1       1    0 -0.796286      0      0 -0.044381         2\n",
      "888         0       3    0 -0.104637      1      2 -0.176263         2\n",
      "889         1       1    1 -0.258337      0      0 -0.044381         0\n",
      "890         0       3    1  0.202762      0      0 -0.492378         1\n",
      "\n",
      "[891 rows x 8 columns]\n",
      "     Pclass  Sex       Age  SibSp  Parch      Fare  Embarked\n",
      "0         3    1  0.386231      0      0 -0.497413         1\n",
      "1         3    0  1.371370      1      0 -0.512278         2\n",
      "2         2    1  2.553537      0      0 -0.464100         1\n",
      "3         3    1 -0.204852      0      0 -0.482475         2\n",
      "4         3    0 -0.598908      1      1 -0.417492         2\n",
      "..      ...  ...       ...    ...    ...       ...       ...\n",
      "413       3    1 -0.204852      0      0 -0.493455         2\n",
      "414       1    0  0.740881      0      0  1.314435         0\n",
      "415       3    1  0.701476      0      0 -0.507796         2\n",
      "416       3    1 -0.204852      0      0 -0.493455         2\n",
      "417       3    1 -0.204852      1      1 -0.236957         0\n",
      "\n",
      "[418 rows x 7 columns]\n"
     ]
    }
   ],
   "source": [
    "#Ivy's version\n",
    "Data = [training_data, testing_data]\n",
    "Variable = ['Age', 'Fare']\n",
    "\n",
    "def Ivy_std(data,v):\n",
    "    # Scaler function\n",
    "    scaler = StandardScaler()\n",
    "    \n",
    "    # Any value we want to reshape needs be turned into array first\n",
    "    nd_v = np.array(data[v]).reshape(-1,1)\n",
    " \n",
    "    #replace the variable with the standardized one\n",
    "    data[v] = scaler.fit_transform(nd_v)\n",
    "\n",
    "for D in Data:\n",
    "    for V in Variable:\n",
    "        Ivy_std(D,V)\n",
    "    print(D)\n",
    "    \n",
    " "
   ]
  },
  {
   "cell_type": "code",
   "execution_count": null,
   "id": "1ebec40f",
   "metadata": {},
   "outputs": [],
   "source": [
    "#SKIP Teacher's version\n",
    "# Now to select our training/testing data\n",
    "X_features = training_data.drop(labels=['PassengerId', 'Survived'], axis=1)\n",
    "y_labels = training_data['Survived']\n",
    "\n",
    "print(X_features.head(5))\n",
    "print(y_labels.head(5))\n",
    "\n",
    "# Make the train/test data from validation\n",
    "\n",
    "X_train, X_val, y_train, y_val = train_test_split(X_features, y_labels, test_size=0.1,random_state=12)"
   ]
  },
  {
   "cell_type": "code",
   "execution_count": 7,
   "id": "e25f601b",
   "metadata": {},
   "outputs": [
    {
     "name": "stdout",
     "output_type": "stream",
     "text": [
      "   Pclass  Sex       Age  SibSp  Parch      Fare  Embarked\n",
      "0       3    1 -0.565736      1      0 -0.502445         2\n",
      "1       1    0  0.663861      1      0  0.786845         0\n",
      "2       3    0 -0.258337      0      0 -0.488854         2\n",
      "3       1    0  0.433312      1      0  0.420730         2\n",
      "4       3    1  0.433312      0      0 -0.486337         2\n",
      "0    0\n",
      "1    1\n",
      "2    1\n",
      "3    1\n",
      "4    0\n",
      "Name: Survived, dtype: int64\n"
     ]
    }
   ],
   "source": [
    "#Ivy's version\n",
    "\n",
    "# Now to select our training/testing data\n",
    "X_features = training_data.drop(labels=['Survived'], axis=1)\n",
    "y_labels = training_data['Survived']\n",
    "\n",
    "print(X_features.head(5))\n",
    "print(y_labels.head(5))\n",
    "\n",
    "# Make the train/test data from validation\n",
    "\n",
    "X_train, X_val, y_train, y_val = train_test_split(X_features, y_labels, test_size=0.1,random_state=12)"
   ]
  },
  {
   "cell_type": "markdown",
   "id": "5652bc34",
   "metadata": {},
   "source": [
    "## Simple Averaging Approach"
   ]
  },
  {
   "cell_type": "code",
   "execution_count": 8,
   "id": "9cd452cc",
   "metadata": {},
   "outputs": [
    {
     "name": "stdout",
     "output_type": "stream",
     "text": [
      "0.8\n"
     ]
    }
   ],
   "source": [
    "LogReg_clf = LogisticRegression()\n",
    "DTree_clf = DecisionTreeClassifier()\n",
    "SVC_clf = SVC()\n",
    "\n",
    "LogReg_clf.fit(X_train, y_train)\n",
    "DTree_clf.fit(X_train, y_train)\n",
    "SVC_clf.fit(X_train, y_train)\n",
    "\n",
    "LogReg_pred = LogReg_clf.predict(X_val)\n",
    "DTree_pred = DTree_clf.predict(X_val)\n",
    "SVC_pred = SVC_clf.predict(X_val)\n",
    "\n",
    "averaged_preds = (LogReg_pred + DTree_pred + SVC_pred)//3\n",
    "acc = accuracy_score(y_val, averaged_preds)\n",
    "print(acc)"
   ]
  },
  {
   "cell_type": "markdown",
   "id": "82d32100",
   "metadata": {},
   "source": [
    "## Bagging Classification Example"
   ]
  },
  {
   "cell_type": "code",
   "execution_count": 9,
   "id": "62ac47a5",
   "metadata": {},
   "outputs": [
    {
     "name": "stdout",
     "output_type": "stream",
     "text": [
      "0.7927134146341464\n",
      "0.8188719512195123\n",
      "0.8113719512195123\n",
      "0.7963719512195122\n"
     ]
    }
   ],
   "source": [
    "logreg_bagging_model = BaggingClassifier(estimator    = LogReg_clf,\\\n",
    "                                         n_estimators = 50,\\\n",
    "                                         random_state = 12 )\n",
    "dtree_bagging_model = BaggingClassifier(estimator     = DTree_clf,\\\n",
    "                                        n_estimators  = 50, \\\n",
    "                                        random_state  = 12 )\n",
    "random_forest       = RandomForestClassifier(n_estimators  = 100,\\\n",
    "                                             random_state  = 12)\n",
    "extra_trees         = ExtraTreesClassifier(n_estimators    = 100,\\\n",
    "                                           random_state    = 12)\n",
    "\n",
    "def bagging_ensemble(model):\n",
    "    k_folds = KFold(n_splits=20, random_state=12,shuffle=True)\n",
    "    results = cross_val_score(model, X_train, y_train, cv=k_folds)\n",
    "    print(results.mean())\n",
    "\n",
    "bagging_ensemble(logreg_bagging_model)\n",
    "bagging_ensemble(dtree_bagging_model)\n",
    "bagging_ensemble(random_forest)\n",
    "bagging_ensemble(extra_trees)"
   ]
  },
  {
   "cell_type": "markdown",
   "id": "09094ea7",
   "metadata": {},
   "source": [
    "## Boosting Classification Example"
   ]
  },
  {
   "cell_type": "code",
   "execution_count": 13,
   "id": "0a6d48bb",
   "metadata": {},
   "outputs": [
    {
     "name": "stdout",
     "output_type": "stream",
     "text": [
      "Results for 20 estimators:\n",
      "0.8052134146341464\n",
      "Results for 40 estimators:\n",
      "0.8176524390243903\n",
      "Results for 60 estimators:\n",
      "0.8164329268292683\n",
      "Results for 80 estimators:\n",
      "0.8151524390243902\n",
      "Results for 100 estimators:\n",
      "0.8101524390243903\n"
     ]
    }
   ],
   "source": [
    "k_folds = KFold(n_splits=20, random_state=12,shuffle=True)\n",
    "num_estimators = [20, 40, 60, 80, 100]\n",
    "\n",
    "for i in num_estimators:\n",
    "    ada_boost = AdaBoostClassifier(n_estimators = i, random_state = 12)\n",
    "    results = cross_val_score(ada_boost, X_train, y_train, cv = k_folds)\n",
    "    print(\"Results for {} estimators:\".format(i))\n",
    "    print(results.mean())"
   ]
  },
  {
   "cell_type": "markdown",
   "id": "8290c946",
   "metadata": {},
   "source": [
    "## voting\\Stacking Classification Example"
   ]
  },
  {
   "cell_type": "code",
   "execution_count": 14,
   "id": "161a4960",
   "metadata": {},
   "outputs": [
    {
     "name": "stdout",
     "output_type": "stream",
     "text": [
      "Accuracy is: 0.8333333333333334\n",
      "Log Loss is: 6.0072755648528595\n",
      "F1 Score is: 0.7761194029850748\n"
     ]
    }
   ],
   "source": [
    "voting_clf = VotingClassifier(estimators=[('SVC', SVC_clf), ('DTree', DTree_clf), ('LogReg', LogReg_clf)], voting='hard')\n",
    "voting_clf.fit(X_train, y_train)\n",
    "preds = voting_clf.predict(X_val)\n",
    "acc = accuracy_score(y_val, preds)\n",
    "l_loss = log_loss(y_val, preds)\n",
    "f1 = f1_score(y_val, preds)\n",
    "\n",
    "print(\"Accuracy is: \" + str(acc))\n",
    "print(\"Log Loss is: \" + str(l_loss))\n",
    "print(\"F1 Score is: \" + str(f1))"
   ]
  },
  {
   "cell_type": "code",
   "execution_count": null,
   "id": "aedc530e",
   "metadata": {},
   "outputs": [],
   "source": []
  }
 ],
 "metadata": {
  "kernelspec": {
   "display_name": "Python 3",
   "language": "python",
   "name": "python3"
  },
  "language_info": {
   "codemirror_mode": {
    "name": "ipython",
    "version": 3
   },
   "file_extension": ".py",
   "mimetype": "text/x-python",
   "name": "python",
   "nbconvert_exporter": "python",
   "pygments_lexer": "ipython3",
   "version": "3.11.4"
  }
 },
 "nbformat": 4,
 "nbformat_minor": 5
}
