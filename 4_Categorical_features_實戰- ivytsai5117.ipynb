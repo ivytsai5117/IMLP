{
 "cells": [
  {
   "cell_type": "markdown",
   "metadata": {},
   "source": [
    "# 資料前處理(Label encoding、 One hot encoding)\n",
    "這兩個編碼方式的目的是為了將類別 (categorical)或是文字(text)的資料轉換成數字，而讓程式能夠更好的去理解及運算。\n",
    "> Label encoding : 把每個類別 mapping 到某個整數，不會增加新欄位\n",
    "\n",
    "> One hot encoding : 為每個類別新增一個欄位，用 0/1 表示是否\n",
    "\n",
    "![](images/Encoder.PNG)\n",
    "\n",
    "\n",
    "## Encoding Categorical features (or label)\n",
    "![](images/Encoding.PNG)\n"
   ]
  },
  {
   "cell_type": "code",
   "execution_count": 2,
   "metadata": {},
   "outputs": [],
   "source": [
    "%matplotlib inline\n",
    "import pandas as pd\n",
    "import numpy as np\n",
    "import matplotlib.pyplot as plt\n",
    "import seaborn as sns\n",
    "\n",
    "#from keras.utils import np_utils\n",
    " \n",
    "from sklearn.preprocessing import LabelEncoder\n",
    "from sklearn import datasets\n",
    "from sklearn.model_selection import train_test_split"
   ]
  },
  {
   "cell_type": "code",
   "execution_count": 6,
   "metadata": {},
   "outputs": [
    {
     "data": {
      "text/html": [
       "<div>\n",
       "<style scoped>\n",
       "    .dataframe tbody tr th:only-of-type {\n",
       "        vertical-align: middle;\n",
       "    }\n",
       "\n",
       "    .dataframe tbody tr th {\n",
       "        vertical-align: top;\n",
       "    }\n",
       "\n",
       "    .dataframe thead th {\n",
       "        text-align: right;\n",
       "    }\n",
       "</style>\n",
       "<table border=\"1\" class=\"dataframe\">\n",
       "  <thead>\n",
       "    <tr style=\"text-align: right;\">\n",
       "      <th></th>\n",
       "      <th>blood</th>\n",
       "      <th>Y</th>\n",
       "      <th>Z</th>\n",
       "    </tr>\n",
       "  </thead>\n",
       "  <tbody>\n",
       "    <tr>\n",
       "      <th>0</th>\n",
       "      <td>A</td>\n",
       "      <td>high</td>\n",
       "      <td>NaN</td>\n",
       "    </tr>\n",
       "    <tr>\n",
       "      <th>1</th>\n",
       "      <td>B</td>\n",
       "      <td>low</td>\n",
       "      <td>NaN</td>\n",
       "    </tr>\n",
       "    <tr>\n",
       "      <th>2</th>\n",
       "      <td>AB</td>\n",
       "      <td>high</td>\n",
       "      <td>-1196.0</td>\n",
       "    </tr>\n",
       "    <tr>\n",
       "      <th>3</th>\n",
       "      <td>O</td>\n",
       "      <td>mid</td>\n",
       "      <td>72.0</td>\n",
       "    </tr>\n",
       "    <tr>\n",
       "      <th>4</th>\n",
       "      <td>B</td>\n",
       "      <td>mid</td>\n",
       "      <td>83.0</td>\n",
       "    </tr>\n",
       "  </tbody>\n",
       "</table>\n",
       "</div>"
      ],
      "text/plain": [
       "  blood     Y       Z\n",
       "0     A  high     NaN\n",
       "1     B   low     NaN\n",
       "2    AB  high -1196.0\n",
       "3     O   mid    72.0\n",
       "4     B   mid    83.0"
      ]
     },
     "execution_count": 6,
     "metadata": {},
     "output_type": "execute_result"
    }
   ],
   "source": [
    "df = pd.DataFrame({'blood':['A','B','AB','O','B'], \n",
    "                   'Y':['high','low','high','mid','mid'],\n",
    "                   'Z':[np.nan,np.nan,-1196,72,83]});\n",
    "df"
   ]
  },
  {
   "cell_type": "markdown",
   "metadata": {},
   "source": [
    "# 方法一：sklearn - label encoder + onehot encoder\n",
    ">onehot encoder要用2D array，若維度所以要用reshape(-1,1)<br>\n",
    ">onehot encoder要數字，若資料文文字要先用label encoder轉數字"
   ]
  },
  {
   "cell_type": "code",
   "execution_count": 11,
   "metadata": {},
   "outputs": [
    {
     "name": "stdout",
     "output_type": "stream",
     "text": [
      "   blood     Y       Z\n",
      "0      0  high     NaN\n",
      "1      2   low     NaN\n",
      "2      1  high -1196.0\n",
      "3      3   mid    72.0\n",
      "4      2   mid    83.0\n"
     ]
    }
   ],
   "source": [
    "from sklearn.preprocessing import LabelEncoder\n",
    "encoder = LabelEncoder()\n",
    "encoded_Y = encoder.fit_transform(df.blood)\n",
    "#print(encoded_Y, '\\n', df.blood)\n",
    "df['blood'] = encoded_Y\n",
    "print(df)"
   ]
  },
  {
   "cell_type": "markdown",
   "metadata": {},
   "source": [
    "## One hot encoding\n",
    "One Hot encoding的編碼邏輯為將類別拆成多個行(column)，每個列中的數值由1、0替代，當某一列的資料存在的該行的類別則顯示1，反則顯示0。\n",
    "\n",
    "然在指定column進行編碼的情形下，One hot encoding<b>無法直接對字串進行編碼，必須先透過Label encoding將字串以數字取代後再進行One hot encoding處理。</b>\n",
    "\n",
    "> categorical_features = [0]: 表示欲在data上執行One hot encoding的index為0\n",
    "\n",
    "> data_le: 為經過Label encoding編碼的資料(註:OneHotEncoder的輸入要為2-D array，而Label encoding為1-D array)\n"
   ]
  },
  {
   "cell_type": "markdown",
   "metadata": {},
   "source": [
    "OneHotEncoder會轉出scipy.csr_matrix資料結構用.toarray()轉array\n",
    "從結果可以知道，數字0的column 代表的是A、數字1的column 代表的是B，而數字2的column 代表的是AB。\n",
    "除了轉換字串外，One hot encoding也可以轉換數字。在此處的data就不需要先經過Label encoding編碼\n",
    "\n",
    "```python\n",
    "# importing one hot encoder from sklearn \n",
    "# There are changes in OneHotEncoder class \n",
    "from sklearn.preprocessing import OneHotEncoder \n",
    "from sklearn.compose import ColumnTransformer \n",
    "   \n",
    "# creating one hot encoder object with categorical feature 0 \n",
    "# indicating the first column \n",
    "columnTransformer = ColumnTransformer([('encoder', \n",
    "                                        OneHotEncoder(), \n",
    "                                        [0])], \n",
    "                                      remainder='passthrough') \n",
    "  \n",
    "data = np.array(columnTransformer.fit_transform(data), dtype = str) \n",
    "```"
   ]
  },
  {
   "cell_type": "code",
   "execution_count": 30,
   "metadata": {
    "scrolled": true
   },
   "outputs": [
    {
     "name": "stdout",
     "output_type": "stream",
     "text": [
      "[0 2 1 3 2] \n",
      " [[1. 0. 0. 0.]\n",
      " [0. 0. 1. 0.]\n",
      " [0. 1. 0. 0.]\n",
      " [0. 0. 0. 1.]\n",
      " [0. 0. 1. 0.]]\n",
      "<class 'numpy.ndarray'>\n"
     ]
    },
    {
     "data": {
      "text/plain": [
       "\"\\ncolumnTransformer = ColumnTransformer([('encoder', \\n                                        OneHotEncoder(), \\n                                        [0])], \\n                                      remainder='passthrough') \\n\""
      ]
     },
     "execution_count": 30,
     "metadata": {},
     "output_type": "execute_result"
    }
   ],
   "source": [
    "#方法一:\n",
    "# importing one hot encoder from sklearn \n",
    "# There are changes in OneHotEncoder class \n",
    "from sklearn.preprocessing import OneHotEncoder \n",
    "from sklearn.compose import ColumnTransformer \n",
    "onehot = OneHotEncoder()\n",
    "d = np.array(df['blood'])\n",
    "\n",
    "#轉換後會變成scipy 格式，需要再用to_array 變成array 格式\n",
    "onehot_df = onehot.fit_transform(d.reshape(-1,1)).toarray()\n",
    "print(d,'\\n', onehot_df)\n",
    "print(type(onehot_df))\n",
    "# creating one hot encoder object with categorical feature 0 \n",
    "# indicating the first column \n"
   ]
  },
  {
   "cell_type": "code",
   "execution_count": 49,
   "metadata": {
    "scrolled": true
   },
   "outputs": [
    {
     "name": "stdout",
     "output_type": "stream",
     "text": [
      "data df2: \n",
      "   blood     Y       Z\n",
      "0     A  high     NaN\n",
      "1     B   low     NaN\n",
      "2    AB  high -1196.0\n",
      "3     O   mid    72.0\n",
      "4     B   mid    83.0\n",
      "df2_oneshot: \n",
      " [['1.0' '0.0' '0.0' '0.0' 'high' 'nan']\n",
      " ['0.0' '0.0' '1.0' '0.0' 'low' 'nan']\n",
      " ['0.0' '1.0' '0.0' '0.0' 'high' '-1196.0']\n",
      " ['0.0' '0.0' '0.0' '1.0' 'mid' '72.0']\n",
      " ['0.0' '0.0' '1.0' '0.0' 'mid' '83.0']]\n"
     ]
    },
    {
     "data": {
      "text/html": [
       "<div>\n",
       "<style scoped>\n",
       "    .dataframe tbody tr th:only-of-type {\n",
       "        vertical-align: middle;\n",
       "    }\n",
       "\n",
       "    .dataframe tbody tr th {\n",
       "        vertical-align: top;\n",
       "    }\n",
       "\n",
       "    .dataframe thead th {\n",
       "        text-align: right;\n",
       "    }\n",
       "</style>\n",
       "<table border=\"1\" class=\"dataframe\">\n",
       "  <thead>\n",
       "    <tr style=\"text-align: right;\">\n",
       "      <th></th>\n",
       "      <th>Bld A</th>\n",
       "      <th>Bld AB</th>\n",
       "      <th>Bld B</th>\n",
       "      <th>Bld O</th>\n",
       "      <th>Y</th>\n",
       "      <th>Z</th>\n",
       "    </tr>\n",
       "  </thead>\n",
       "  <tbody>\n",
       "    <tr>\n",
       "      <th>0</th>\n",
       "      <td>1.0</td>\n",
       "      <td>0.0</td>\n",
       "      <td>0.0</td>\n",
       "      <td>0.0</td>\n",
       "      <td>high</td>\n",
       "      <td>nan</td>\n",
       "    </tr>\n",
       "    <tr>\n",
       "      <th>1</th>\n",
       "      <td>0.0</td>\n",
       "      <td>0.0</td>\n",
       "      <td>1.0</td>\n",
       "      <td>0.0</td>\n",
       "      <td>low</td>\n",
       "      <td>nan</td>\n",
       "    </tr>\n",
       "    <tr>\n",
       "      <th>2</th>\n",
       "      <td>0.0</td>\n",
       "      <td>1.0</td>\n",
       "      <td>0.0</td>\n",
       "      <td>0.0</td>\n",
       "      <td>high</td>\n",
       "      <td>-1196.0</td>\n",
       "    </tr>\n",
       "    <tr>\n",
       "      <th>3</th>\n",
       "      <td>0.0</td>\n",
       "      <td>0.0</td>\n",
       "      <td>0.0</td>\n",
       "      <td>1.0</td>\n",
       "      <td>mid</td>\n",
       "      <td>72.0</td>\n",
       "    </tr>\n",
       "    <tr>\n",
       "      <th>4</th>\n",
       "      <td>0.0</td>\n",
       "      <td>0.0</td>\n",
       "      <td>1.0</td>\n",
       "      <td>0.0</td>\n",
       "      <td>mid</td>\n",
       "      <td>83.0</td>\n",
       "    </tr>\n",
       "  </tbody>\n",
       "</table>\n",
       "</div>"
      ],
      "text/plain": [
       "  Bld A Bld AB Bld B Bld O     Y        Z\n",
       "0   1.0    0.0   0.0   0.0  high      nan\n",
       "1   0.0    0.0   1.0   0.0   low      nan\n",
       "2   0.0    1.0   0.0   0.0  high  -1196.0\n",
       "3   0.0    0.0   0.0   1.0   mid     72.0\n",
       "4   0.0    0.0   1.0   0.0   mid     83.0"
      ]
     },
     "execution_count": 49,
     "metadata": {},
     "output_type": "execute_result"
    }
   ],
   "source": [
    "#方法二:\n",
    "# importing one hot encoder from sklearn \n",
    "# There are changes in OneHotEncoder class \n",
    "from sklearn.preprocessing import OneHotEncoder \n",
    "from sklearn.compose import ColumnTransformer \n",
    "onehot = OneHotEncoder()\n",
    "df2 = pd.DataFrame({'blood':['A','B','AB','O','B'], \n",
    "                   'Y':['high','low','high','mid','mid'],\n",
    "                   'Z':[np.nan,np.nan,-1196,72,83]});\n",
    "\n",
    "\n",
    "\n",
    "# creating one hot encoder object with categorical feature 0 \n",
    "# indicating the first column \n",
    "\n",
    "columnTransformer = ColumnTransformer([('encoder', \n",
    "                                        OneHotEncoder(), \n",
    "                                        [0])], \n",
    "                                      remainder='passthrough') \n",
    "\n",
    "array2_onehot = np.array(columnTransformer.fit_transform(df2), dtype = str)\n",
    "print('data df2:','\\n', df2)\n",
    "print('df2_oneshot:', '\\n',array2_onehot)\n",
    "type(array2_onehot)\n",
    "\n",
    "#全部轉成DataFrame\n",
    "df2_DF = pd.DataFrame(array2_onehot, columns = ['Bld A', 'Bld AB', 'Bld B', 'Bld O', 'Y', 'Z'])\n",
    "df2_DF"
   ]
  },
  {
   "cell_type": "code",
   "execution_count": 6,
   "metadata": {
    "scrolled": true
   },
   "outputs": [
    {
     "name": "stdout",
     "output_type": "stream",
     "text": [
      "data df3: \n",
      "   blood     Y       Z\n",
      "0     A  high     NaN\n",
      "1     B   low     NaN\n",
      "2    AB  high -1196.0\n",
      "3     O   mid    72.0\n",
      "4     B   mid    83.0\n",
      "df3_oneshot: \n",
      " [['1.0' '0.0' '0.0' 'A' 'nan']\n",
      " ['0.0' '1.0' '0.0' 'B' 'nan']\n",
      " ['1.0' '0.0' '0.0' 'AB' '-1196.0']\n",
      " ['0.0' '0.0' '1.0' 'O' '72.0']\n",
      " ['0.0' '0.0' '1.0' 'B' '83.0']]\n"
     ]
    },
    {
     "data": {
      "text/plain": [
       "numpy.ndarray"
      ]
     },
     "execution_count": 6,
     "metadata": {},
     "output_type": "execute_result"
    }
   ],
   "source": [
    "#方法二，自己測試在第二個feature [0] -->[1]\n",
    "# importing one hot encoder from sklearn \n",
    "# There are changes in OneHotEncoder class \n",
    "from sklearn.preprocessing import OneHotEncoder \n",
    "from sklearn.compose import ColumnTransformer \n",
    "onehot = OneHotEncoder()\n",
    "df3 = pd.DataFrame({'blood':['A','B','AB','O','B'], \n",
    "                   'Y':['high','low','high','mid','mid'],\n",
    "                   'Z':[np.nan,np.nan,-1196,72,83]});\n",
    "\n",
    "\n",
    "\n",
    "# creating one hot encoder object with categorical feature 0 \n",
    "# indicating the first column \n",
    "\n",
    "columnTransformer = ColumnTransformer([('encoder', \n",
    "                                        OneHotEncoder(), \n",
    "                                        [1])], \n",
    "                                      remainder='passthrough') \n",
    "\n",
    "df3_onehot = np.array(columnTransformer.fit_transform(df3), dtype = str)\n",
    "print('data df3:','\\n', df3)\n",
    "print('df3_oneshot:', '\\n',df3_onehot)\n",
    "type(df3_onehot)\n",
    "\n",
    " "
   ]
  },
  {
   "cell_type": "markdown",
   "metadata": {},
   "source": [
    "# 方法二：Keras - label encoder + to_categorical\n",
    ">to_categorical要數字，若資料文文字要先用label encoder轉數字"
   ]
  },
  {
   "cell_type": "code",
   "execution_count": 5,
   "metadata": {},
   "outputs": [
    {
     "data": {
      "text/plain": [
       "array([[1., 0., 0., 0.],\n",
       "       [0., 0., 1., 0.],\n",
       "       [0., 1., 0., 0.],\n",
       "       [0., 0., 0., 1.],\n",
       "       [0., 0., 1., 0.]], dtype=float32)"
      ]
     },
     "execution_count": 5,
     "metadata": {},
     "output_type": "execute_result"
    }
   ],
   "source": [
    "from sklearn.preprocessing import LabelEncoder\n",
    "#!!pip install np_utils\n",
    "from keras.utils import np_utils \n",
    "\n",
    "# label encoder \n",
    "encoder = LabelEncoder()\n",
    "\n",
    "#產生資料\n",
    "df4 = pd.DataFrame({'blood':['A','B','AB','O','B'], \n",
    "                   'Y':['high','low','high','mid','mid'],\n",
    "                   'Z':[np.nan,np.nan,-1196,72,83]});\n",
    "\n",
    "\n",
    "\n",
    "encoded_Y = encoder.fit_transform(df4.blood)\n",
    "#print(encoded_Y, '\\n', df.blood)\n",
    "df4['blood'] = encoded_Y\n",
    "\n",
    "# convert integers to one hot encoding\n",
    "keras_oneshot = np_utils.to_categorical(df4.blood)\n",
    "keras_oneshot\n",
    "\n"
   ]
  },
  {
   "cell_type": "markdown",
   "metadata": {},
   "source": [
    "## 方法三：pd.get_dummies方法\n",
    "![](images/Encoding_pd.PNG)\n",
    "pd.get_dummies(df)\n",
    ">get_dummies可以直接轉字串，反而無法轉換數字<br>\n",
    ">get_dummies沒指定columns，會全部轉換"
   ]
  },
  {
   "cell_type": "code",
   "execution_count": 8,
   "metadata": {},
   "outputs": [
    {
     "name": "stdout",
     "output_type": "stream",
     "text": [
      "All dummies: \n",
      "         Z  blood_A  blood_AB  blood_B  blood_O  Y_high  Y_low  Y_mid\n",
      "0     NaN        1         0        0        0       1      0      0\n",
      "1     NaN        0         0        1        0       0      1      0\n",
      "2 -1196.0        0         1        0        0       1      0      0\n",
      "3    72.0        0         0        0        1       0      0      1\n",
      "4    83.0        0         0        1        0       0      0      1\n",
      "Blood dummy: \n",
      "    A  AB  B  O\n",
      "0  1   0  0  0\n",
      "1  0   0  1  0\n",
      "2  0   1  0  0\n",
      "3  0   0  0  1\n",
      "4  0   0  1  0\n"
     ]
    }
   ],
   "source": [
    "df5 = pd.DataFrame({'blood':['A','B','AB','O','B'], \n",
    "                   'Y':['high','low','high','mid','mid'],\n",
    "                   'Z':[np.nan,np.nan,-1196,72,83]})\n",
    "\n",
    "df5_dummy = pd.get_dummies(df5)\n",
    "print(\"All dummies:\", '\\n', df5_dummy)\n",
    "\n",
    "df6 = pd.DataFrame({'blood':['A','B','AB','O','B'], \n",
    "                   'Y':['high','low','high','mid','mid'],\n",
    "                   'Z':[np.nan,np.nan,-1196,72,83]})\n",
    "\n",
    "df6_dummy = pd.get_dummies(df6.blood)\n",
    "print(\"Blood dummy:\", '\\n', df6_dummy)"
   ]
  },
  {
   "cell_type": "markdown",
   "metadata": {},
   "source": [
    "## 練習一：sklearn - label encoder + onehot encoder\n",
    "下面的資料可以看到country那欄皆為字串， 大部分的模型都是基於數學運算，字串無法套入數學模型進行運算，<br>\n",
    "在此先對其進行Label encoding編碼，我們從 sklearn library中導入 LabelEncoder class，對第一行資料進行fit及transform並取代之。"
   ]
  },
  {
   "cell_type": "code",
   "execution_count": 14,
   "metadata": {},
   "outputs": [
    {
     "name": "stdout",
     "output_type": "stream",
     "text": [
      "     Country  Age  Salary\n",
      "0     Taiwan   25   20000\n",
      "1  Australia   30   32000\n",
      "2    Ireland   45   59000\n",
      "3  Australia   35   60000\n",
      "4    Ireland   22   43000\n",
      "5     Taiwan   36   52000\n",
      "data df2: \n",
      "      Country  Age  Salary\n",
      "0     Taiwan   25   20000\n",
      "1  Australia   30   32000\n",
      "2    Ireland   45   59000\n",
      "3  Australia   35   60000\n",
      "4    Ireland   22   43000\n",
      "5     Taiwan   36   52000\n",
      "df2_oneshot: \n",
      " [['0.0' '1.0' '0.0' '0.0' '0.0' '0.0' 'Taiwan' '20000']\n",
      " ['0.0' '0.0' '1.0' '0.0' '0.0' '0.0' 'Australia' '32000']\n",
      " ['0.0' '0.0' '0.0' '0.0' '0.0' '1.0' 'Ireland' '59000']\n",
      " ['0.0' '0.0' '0.0' '1.0' '0.0' '0.0' 'Australia' '60000']\n",
      " ['1.0' '0.0' '0.0' '0.0' '0.0' '0.0' 'Ireland' '43000']\n",
      " ['0.0' '0.0' '0.0' '0.0' '1.0' '0.0' 'Taiwan' '52000']]\n",
      "     0    1    2    3    4    5          6      7\n",
      "0  0.0  1.0  0.0  0.0  0.0  0.0     Taiwan  20000\n",
      "1  0.0  0.0  1.0  0.0  0.0  0.0  Australia  32000\n",
      "2  0.0  0.0  0.0  0.0  0.0  1.0    Ireland  59000\n",
      "3  0.0  0.0  0.0  1.0  0.0  0.0  Australia  60000\n",
      "4  1.0  0.0  0.0  0.0  0.0  0.0    Ireland  43000\n",
      "5  0.0  0.0  0.0  0.0  1.0  0.0     Taiwan  52000\n"
     ]
    }
   ],
   "source": [
    "import numpy as np\n",
    "import pandas as pd\n",
    "# importing one hot encoder from sklearn \n",
    "from sklearn.preprocessing import OneHotEncoder \n",
    "from sklearn.compose import ColumnTransformer \n",
    " \n",
    "\n",
    "country=['Taiwan','Australia','Ireland','Australia','Ireland','Taiwan']\n",
    "age=[25,30,45,35,22,36]\n",
    "salary=[20000,32000,59000,60000,43000,52000]\n",
    "dic={'Country':country,'Age':age,'Salary':salary}\n",
    "data=pd.DataFrame(dic)\n",
    "print(data)\n",
    "\n",
    "\n",
    "columnTransformer = ColumnTransformer([('encoder', \n",
    "                                        OneHotEncoder(), \n",
    "                                        [1])], \n",
    "                                      remainder='passthrough') \n",
    "\n",
    "array2_onehot = np.array(columnTransformer.fit_transform(data), dtype = str)\n",
    "print('data df2:','\\n', data)\n",
    "print('df2_oneshot:', '\\n',array2_onehot)\n",
    "type(array2_onehot)\n",
    "\n",
    "#全部轉成DataFrame\n",
    "df2_DF = pd.DataFrame(array2_onehot)\n",
    "print(df2_DF)\n",
    " "
   ]
  },
  {
   "cell_type": "markdown",
   "metadata": {},
   "source": [
    "## 練習二：Keras - label encoder + to_categorical"
   ]
  },
  {
   "cell_type": "code",
   "execution_count": 16,
   "metadata": {},
   "outputs": [
    {
     "data": {
      "text/plain": [
       "array([[0., 0., 1.],\n",
       "       [1., 0., 0.],\n",
       "       [0., 1., 0.],\n",
       "       [1., 0., 0.],\n",
       "       [0., 1., 0.],\n",
       "       [0., 0., 1.]], dtype=float32)"
      ]
     },
     "execution_count": 16,
     "metadata": {},
     "output_type": "execute_result"
    }
   ],
   "source": [
    "from sklearn.preprocessing import LabelEncoder\n",
    "from keras.utils import np_utils\n",
    "\n",
    "country=['Taiwan','Australia','Ireland','Australia','Ireland','Taiwan']\n",
    "age=[25,30,45,35,22,36]\n",
    "salary=[20000,32000,59000,60000,43000,52000]\n",
    "dic={'Country':country,'Age':age,'Salary':salary}\n",
    "data=pd.DataFrame(dic)\n",
    "data\n",
    "\n",
    "from sklearn.preprocessing import LabelEncoder\n",
    "#!!pip install np_utils\n",
    "from keras.utils import np_utils \n",
    "\n",
    "# label encoder \n",
    "encoder = LabelEncoder()\n",
    "\n",
    "\n",
    "encoded_Y = encoder.fit_transform(data.Country)\n",
    "data['Country'] = encoded_Y\n",
    "\n",
    "# convert integers to one hot encoding\n",
    "keras_oneshot = np_utils.to_categorical(data.Country)\n",
    "keras_oneshot\n"
   ]
  },
  {
   "cell_type": "markdown",
   "metadata": {},
   "source": [
    "## 練習三：Pandas.get_dummies\n",
    ">　get_dummies : 僅能將字串轉換為One hot encoding表示形式， 沒指定columns會全部轉換。"
   ]
  },
  {
   "cell_type": "code",
   "execution_count": 17,
   "metadata": {},
   "outputs": [
    {
     "name": "stdout",
     "output_type": "stream",
     "text": [
      "   Australia  Ireland  Taiwan\n",
      "0          0        0       1\n",
      "1          1        0       0\n",
      "2          0        1       0\n",
      "3          1        0       0\n",
      "4          0        1       0\n",
      "5          0        0       1\n"
     ]
    }
   ],
   "source": [
    "country=['Taiwan','Australia','Ireland','Australia','Ireland','Taiwan']\n",
    "age=[25,30,45,35,22,36]\n",
    "salary=[20000,32000,59000,60000,43000,52000]\n",
    "dic={'Country':country,'Age':age,'Salary':salary}\n",
    "data=pd.DataFrame(dic)\n",
    "data\n",
    "\n",
    "\n",
    "df6_dummy = pd.get_dummies(data.Country)\n",
    "print(df6_dummy)"
   ]
  }
 ],
 "metadata": {
  "kernelspec": {
   "display_name": "Python 3",
   "language": "python",
   "name": "python3"
  },
  "language_info": {
   "codemirror_mode": {
    "name": "ipython",
    "version": 3
   },
   "file_extension": ".py",
   "mimetype": "text/x-python",
   "name": "python",
   "nbconvert_exporter": "python",
   "pygments_lexer": "ipython3",
   "version": "3.11.4"
  }
 },
 "nbformat": 4,
 "nbformat_minor": 4
}
