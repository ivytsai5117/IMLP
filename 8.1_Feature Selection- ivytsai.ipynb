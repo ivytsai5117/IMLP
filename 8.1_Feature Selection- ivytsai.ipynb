{
 "cells": [
  {
   "cell_type": "code",
   "execution_count": 1,
   "metadata": {},
   "outputs": [],
   "source": [
    "from sklearn import feature_selection as fs\n",
    "from sklearn import datasets"
   ]
  },
  {
   "cell_type": "markdown",
   "metadata": {},
   "source": [
    "# Removing features with low variance\n",
    "## 設定變異數門檻值，剔除變異過低的特徵\n",
    "## $$Var(X)=E[(X-\\mu)^2]$$\n",
    "## Bernoulli distribution: $$ Var(X)=p(1-P)$$"
   ]
  },
  {
   "cell_type": "code",
   "execution_count": 3,
   "metadata": {},
   "outputs": [],
   "source": [
    "#Ivy: three features(columns), the variance of the first feature is quite low\n",
    "\n",
    "X=[[0, 0, 1],\n",
    "   [0, 1, 0],\n",
    "   [1, 0, 0], \n",
    "   [0, 1, 1], \n",
    "   [0, 1, 0], \n",
    "   [0, 1, 1]]"
   ]
  },
  {
   "cell_type": "code",
   "execution_count": 4,
   "metadata": {},
   "outputs": [
    {
     "data": {
      "text/plain": [
       "array([[0, 1],\n",
       "       [1, 0],\n",
       "       [0, 0],\n",
       "       [1, 1],\n",
       "       [1, 0],\n",
       "       [1, 1]])"
      ]
     },
     "execution_count": 4,
     "metadata": {},
     "output_type": "execute_result"
    }
   ],
   "source": [
    "#Ivy: after variance screening, the first feature is removed.\n",
    "sel=fs.VarianceThreshold(threshold=0.8*(1-0.8))\n",
    "sel.fit_transform(X)"
   ]
  },
  {
   "cell_type": "markdown",
   "metadata": {},
   "source": [
    "# Univariate feature selection\n",
    "## 透過單獨計算每個特徵的統計值來決定重要特徵\n",
    "## 1. SelectKBest: 選取排名前K個重要特徵\n",
    "## 2. SelectPercentile: 選取排名前K%的重要特徵\n",
    "## For regression:\n",
    "### f_regression, mutual_info_regression\n",
    "## For classification:\n",
    "### chi2, f_classif, mutual_info_classif"
   ]
  },
  {
   "cell_type": "code",
   "execution_count": null,
   "metadata": {},
   "outputs": [],
   "source": [
    "#Ivy: 基本上就是我們的單變項統計檢定"
   ]
  },
  {
   "cell_type": "code",
   "execution_count": 5,
   "metadata": {},
   "outputs": [],
   "source": [
    "iris=datasets.load_iris()\n",
    "X=iris.data\n",
    "y=iris.target"
   ]
  },
  {
   "cell_type": "code",
   "execution_count": 18,
   "metadata": {},
   "outputs": [
    {
     "name": "stdout",
     "output_type": "stream",
     "text": [
      "type(X): <class 'numpy.ndarray'> \t dim(X): 2 \t X shape: (150, 4) \n",
      " type(y): <class 'numpy.ndarray'> \t dim(y): 1 \t y shape: (150,) \n",
      "\n",
      "X[:10,] \n",
      " [[5.1 3.5 1.4 0.2]\n",
      " [4.9 3.  1.4 0.2]\n",
      " [4.7 3.2 1.3 0.2]\n",
      " [4.6 3.1 1.5 0.2]\n",
      " [5.  3.6 1.4 0.2]\n",
      " [5.4 3.9 1.7 0.4]\n",
      " [4.6 3.4 1.4 0.3]\n",
      " [5.  3.4 1.5 0.2]\n",
      " [4.4 2.9 1.4 0.2]\n",
      " [4.9 3.1 1.5 0.1]] \n",
      " y[:10,] \n",
      " [0 0 0 0 0 0 0 0 0 0]\n"
     ]
    }
   ],
   "source": [
    "#Ivy's notes and practice\n",
    "#Step 1: 先了解資料shapte\n",
    "print(\"type(X):\",type(X),'\\t',\"dim(X):\", X.ndim, '\\t', \"X shape:\", X.shape,'\\n',\\\n",
    "      \"type(y):\",type(y),'\\t',\"dim(y):\", y.ndim, '\\t', \"y shape:\", y.shape,'\\n')\n",
    "\n",
    "print('X[:10,]','\\n', X[:10,], '\\n',\\\n",
    "      'y[:10,]','\\n', y[:10,])"
   ]
  },
  {
   "cell_type": "markdown",
   "metadata": {},
   "source": [
    "### 1. SelectKBest: 選取排名前K個重要特徵"
   ]
  },
  {
   "cell_type": "code",
   "execution_count": 23,
   "metadata": {},
   "outputs": [
    {
     "name": "stdout",
     "output_type": "stream",
     "text": [
      "[[5.1 1.4 0.2]\n",
      " [4.9 1.4 0.2]\n",
      " [4.7 1.3 0.2]\n",
      " [4.6 1.5 0.2]\n",
      " [5.  1.4 0.2]\n",
      " [5.4 1.7 0.4]\n",
      " [4.6 1.4 0.3]\n",
      " [5.  1.5 0.2]\n",
      " [4.4 1.4 0.2]\n",
      " [4.9 1.5 0.1]]\n"
     ]
    }
   ],
   "source": [
    "#Ivy's notes and practice:\n",
    "#1. Chi2 to select X features\n",
    "#   fs press 'tab' key to select the chi2 function\n",
    "#   classification of two categories\n",
    "#   input X and y to fit_transform and get new selected X_new\n",
    "X_new = fs.SelectKBest(fs.chi2, k = 3).fit_transform(X,y)\n",
    "print(X_new[:10])"
   ]
  },
  {
   "cell_type": "markdown",
   "metadata": {},
   "source": [
    "### 2. SelectPercentile: 選取排名前K%的重要特徵"
   ]
  },
  {
   "cell_type": "code",
   "execution_count": 26,
   "metadata": {},
   "outputs": [
    {
     "name": "stdout",
     "output_type": "stream",
     "text": [
      "[[1.4 0.2]\n",
      " [1.4 0.2]\n",
      " [1.3 0.2]\n",
      " [1.5 0.2]\n",
      " [1.4 0.2]\n",
      " [1.7 0.4]\n",
      " [1.4 0.3]\n",
      " [1.5 0.2]\n",
      " [1.4 0.2]\n",
      " [1.5 0.1]]\n"
     ]
    }
   ],
   "source": [
    "X_new2 = fs.SelectPercentile(fs.mutual_info_classif, percentile = 50).fit_transform(X,y)\n",
    "print(X_new2[:10])"
   ]
  },
  {
   "cell_type": "code",
   "execution_count": null,
   "metadata": {},
   "outputs": [],
   "source": []
  },
  {
   "cell_type": "code",
   "execution_count": null,
   "metadata": {},
   "outputs": [],
   "source": []
  }
 ],
 "metadata": {
  "kernelspec": {
   "display_name": "Python 3",
   "language": "python",
   "name": "python3"
  },
  "language_info": {
   "codemirror_mode": {
    "name": "ipython",
    "version": 3
   },
   "file_extension": ".py",
   "mimetype": "text/x-python",
   "name": "python",
   "nbconvert_exporter": "python",
   "pygments_lexer": "ipython3",
   "version": "3.11.4"
  }
 },
 "nbformat": 4,
 "nbformat_minor": 2
}
